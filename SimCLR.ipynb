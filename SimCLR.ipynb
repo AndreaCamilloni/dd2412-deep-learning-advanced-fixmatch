{
  "cells": [
    {
      "cell_type": "markdown",
      "metadata": {
        "id": "view-in-github",
        "colab_type": "text"
      },
      "source": [
        "<a href=\"https://colab.research.google.com/github/AndreaCamilloni/dd2412-deep-learning-advanced-fixmatch/blob/main/SimCLR.ipynb\" target=\"_parent\"><img src=\"https://colab.research.google.com/assets/colab-badge.svg\" alt=\"Open In Colab\"/></a>"
      ]
    },
    {
      "cell_type": "markdown",
      "metadata": {
        "id": "UmklZXemhspB"
      },
      "source": [
        "# SimCLR\n",
        "\n",
        "In this practial exercise, you are going to implement the famous SimCLR [1] algorithm for self-supervised learning. While not that old, it is often seen as the 'classic' approach to contrastive learning and it is still used as a baseline against which newer approaches are compared. Most of the more recent algorithms are just slight alterations of this approach, so knowing how it works will pay off in the future. Due to the growing amounts of data, self-supervised learning is likely to become more and more relevant in the future. \n",
        "\n",
        "Or as Yan LeCun and Ishan Misra put it: SSL may be helpful to unlock the [dark matter of intelligence](https://ai.facebook.com/blog/self-supervised-learning-the-dark-matter-of-intelligence/).\n",
        "\n",
        "## Getting labels is expensive and can be ethically difficult\n",
        "\n",
        "Regular supervised learning requires each data point to be labeled with ground truth information. Additionally, it requires large amounts of data. This unfortunately means that humans have to spend a lot of time hand-labeling data before we can train our networks. If determining the ground truth requires expert knowledge (e.g. diagnosing a disease based on a brain scan), getting large amounts of data is very expensive and time-consuming. In other cases, it can be very repetitive, mind-numbing work: \"Click all images containing traffic lights.\" Since nobody wants to do this kind of work, it is often outsourced to crowd-workers who earn very little and have generally bad working conditions:\n",
        "https://thegoodai.co/2021/02/03/who-is-labeling-your-data/\n",
        "\n",
        "## SSL is a form of pretraining\n",
        "\n",
        "Self-supervised learning now takes a bit of a different approach than supervised learning. It simply outsources the labeling to the computer! The computer *supervises itself*.\n",
        "\n",
        "We first pretrain our model on a so-called *pretext task* using a large **unlabeled** dataset, then fine-tune it on a smaller, labeled dataset. The pretext tasks often consist of supervised learning, but use labels that the computer can automatically generate for any image. Afterwards, we finetune our model using regular supervised learning on a smaller dataset. \n",
        "\n",
        "One example for a pretext task would be to rotate the input image and let the network predict the degree of rotation. There's no need for human labeling, since the program has the information about how it rotated the image, so it can use that as a label right away. To solve the task, the network needs to learn e.g. that the sky is usually at the top of the image and that cars have their wheels on the bottom of the image. So it is forced to learn to recognise what the image contains, which is probably useful for the downstream task!"
      ]
    },
    {
      "cell_type": "markdown",
      "metadata": {
        "id": "jWk3Os9GrTIC"
      },
      "source": [
        "**Task** Come up with a simple pretext task yourself for any kind of dataset you like and describe it in a sentence or two. For example: \"For pretraining a dataset of dog images, I would rotate the images and let the network predicted how the image was rotated.\" But don't simply use rotation, come up with something yourself!\n",
        "\n",
        "Hint: Your program can change anything about the image and use information about that change to create a label. "
      ]
    },
    {
      "cell_type": "markdown",
      "metadata": {
        "id": "14qeLONXsriG"
      },
      "source": [
        "**Answer** \n",
        "Various Types of Transformations like mirroring, flipping, changing colors spaces etc"
      ]
    },
    {
      "cell_type": "markdown",
      "metadata": {
        "id": "tMhB8RRhhZQN"
      },
      "source": [
        "# Preparation\n",
        "\n",
        "No need for you to implement the boring stuff. Just run the cells, we'll need it further down. "
      ]
    },
    {
      "cell_type": "code",
      "execution_count": 1,
      "metadata": {
        "id": "P3HrlIokhToe",
        "colab": {
          "base_uri": "https://localhost:8080/"
        },
        "outputId": "3ce8302c-a98b-451c-8409-eacccf65497a"
      },
      "outputs": [
        {
          "output_type": "stream",
          "name": "stdout",
          "text": [
            "Looking in indexes: https://pypi.org/simple, https://us-python.pkg.dev/colab-wheels/public/simple/\n",
            "Collecting jax-resnet\n",
            "  Downloading jax_resnet-0.0.4-py2.py3-none-any.whl (11 kB)\n",
            "Collecting optax\n",
            "  Downloading optax-0.1.3-py3-none-any.whl (145 kB)\n",
            "\u001b[K     |████████████████████████████████| 145 kB 14.7 MB/s \n",
            "\u001b[?25hCollecting umap-learn\n",
            "  Downloading umap-learn-0.5.3.tar.gz (88 kB)\n",
            "\u001b[K     |████████████████████████████████| 88 kB 9.0 MB/s \n",
            "\u001b[?25hRequirement already satisfied: jax in /usr/local/lib/python3.7/dist-packages (from jax-resnet) (0.3.23)\n",
            "Requirement already satisfied: jaxlib in /usr/local/lib/python3.7/dist-packages (from jax-resnet) (0.3.22+cuda11.cudnn805)\n",
            "Collecting flax\n",
            "  Downloading flax-0.6.1-py3-none-any.whl (185 kB)\n",
            "\u001b[K     |████████████████████████████████| 185 kB 65.3 MB/s \n",
            "\u001b[?25hCollecting chex>=0.0.4\n",
            "  Downloading chex-0.1.5-py3-none-any.whl (85 kB)\n",
            "\u001b[K     |████████████████████████████████| 85 kB 5.1 MB/s \n",
            "\u001b[?25hRequirement already satisfied: typing-extensions>=3.10.0 in /usr/local/lib/python3.7/dist-packages (from optax) (4.1.1)\n",
            "Requirement already satisfied: numpy>=1.18.0 in /usr/local/lib/python3.7/dist-packages (from optax) (1.21.6)\n",
            "Requirement already satisfied: absl-py>=0.7.1 in /usr/local/lib/python3.7/dist-packages (from optax) (1.3.0)\n",
            "Requirement already satisfied: dm-tree>=0.1.5 in /usr/local/lib/python3.7/dist-packages (from chex>=0.0.4->optax) (0.1.7)\n",
            "Requirement already satisfied: toolz>=0.9.0 in /usr/local/lib/python3.7/dist-packages (from chex>=0.0.4->optax) (0.12.0)\n",
            "Requirement already satisfied: opt-einsum in /usr/local/lib/python3.7/dist-packages (from jax->jax-resnet) (3.3.0)\n",
            "Requirement already satisfied: scipy>=1.5 in /usr/local/lib/python3.7/dist-packages (from jax->jax-resnet) (1.7.3)\n",
            "Requirement already satisfied: etils[epath] in /usr/local/lib/python3.7/dist-packages (from jax->jax-resnet) (0.8.0)\n",
            "Requirement already satisfied: scikit-learn>=0.22 in /usr/local/lib/python3.7/dist-packages (from umap-learn) (1.0.2)\n",
            "Requirement already satisfied: numba>=0.49 in /usr/local/lib/python3.7/dist-packages (from umap-learn) (0.56.3)\n",
            "Collecting pynndescent>=0.5\n",
            "  Downloading pynndescent-0.5.7.tar.gz (1.1 MB)\n",
            "\u001b[K     |████████████████████████████████| 1.1 MB 62.6 MB/s \n",
            "\u001b[?25hRequirement already satisfied: tqdm in /usr/local/lib/python3.7/dist-packages (from umap-learn) (4.64.1)\n",
            "Requirement already satisfied: setuptools in /usr/local/lib/python3.7/dist-packages (from numba>=0.49->umap-learn) (57.4.0)\n",
            "Requirement already satisfied: importlib-metadata in /usr/local/lib/python3.7/dist-packages (from numba>=0.49->umap-learn) (4.13.0)\n",
            "Requirement already satisfied: llvmlite<0.40,>=0.39.0dev0 in /usr/local/lib/python3.7/dist-packages (from numba>=0.49->umap-learn) (0.39.1)\n",
            "Requirement already satisfied: joblib>=0.11 in /usr/local/lib/python3.7/dist-packages (from pynndescent>=0.5->umap-learn) (1.2.0)\n",
            "Requirement already satisfied: threadpoolctl>=2.0.0 in /usr/local/lib/python3.7/dist-packages (from scikit-learn>=0.22->umap-learn) (3.1.0)\n",
            "Requirement already satisfied: importlib_resources in /usr/local/lib/python3.7/dist-packages (from etils[epath]->jax->jax-resnet) (5.10.0)\n",
            "Requirement already satisfied: zipp in /usr/local/lib/python3.7/dist-packages (from etils[epath]->jax->jax-resnet) (3.9.0)\n",
            "Requirement already satisfied: msgpack in /usr/local/lib/python3.7/dist-packages (from flax->jax-resnet) (1.0.4)\n",
            "Requirement already satisfied: PyYAML>=5.4.1 in /usr/local/lib/python3.7/dist-packages (from flax->jax-resnet) (6.0)\n",
            "Collecting rich>=11.1\n",
            "  Downloading rich-12.6.0-py3-none-any.whl (237 kB)\n",
            "\u001b[K     |████████████████████████████████| 237 kB 67.5 MB/s \n",
            "\u001b[?25hRequirement already satisfied: matplotlib in /usr/local/lib/python3.7/dist-packages (from flax->jax-resnet) (3.2.2)\n",
            "Requirement already satisfied: pygments<3.0.0,>=2.6.0 in /usr/local/lib/python3.7/dist-packages (from rich>=11.1->flax->jax-resnet) (2.6.1)\n",
            "Collecting commonmark<0.10.0,>=0.9.0\n",
            "  Downloading commonmark-0.9.1-py2.py3-none-any.whl (51 kB)\n",
            "\u001b[K     |████████████████████████████████| 51 kB 8.0 MB/s \n",
            "\u001b[?25hRequirement already satisfied: pyparsing!=2.0.4,!=2.1.2,!=2.1.6,>=2.0.1 in /usr/local/lib/python3.7/dist-packages (from matplotlib->flax->jax-resnet) (3.0.9)\n",
            "Requirement already satisfied: kiwisolver>=1.0.1 in /usr/local/lib/python3.7/dist-packages (from matplotlib->flax->jax-resnet) (1.4.4)\n",
            "Requirement already satisfied: cycler>=0.10 in /usr/local/lib/python3.7/dist-packages (from matplotlib->flax->jax-resnet) (0.11.0)\n",
            "Requirement already satisfied: python-dateutil>=2.1 in /usr/local/lib/python3.7/dist-packages (from matplotlib->flax->jax-resnet) (2.8.2)\n",
            "Requirement already satisfied: six>=1.5 in /usr/local/lib/python3.7/dist-packages (from python-dateutil>=2.1->matplotlib->flax->jax-resnet) (1.15.0)\n",
            "Building wheels for collected packages: umap-learn, pynndescent\n",
            "  Building wheel for umap-learn (setup.py) ... \u001b[?25l\u001b[?25hdone\n",
            "  Created wheel for umap-learn: filename=umap_learn-0.5.3-py3-none-any.whl size=82829 sha256=6d82cd7e0a7921d5b3ff9e2b6d874ede358d7135a835cd991b7f52ac1c02866c\n",
            "  Stored in directory: /root/.cache/pip/wheels/b3/52/a5/1fd9e3e76a7ab34f134c07469cd6f16e27ef3a37aeff1fe821\n",
            "  Building wheel for pynndescent (setup.py) ... \u001b[?25l\u001b[?25hdone\n",
            "  Created wheel for pynndescent: filename=pynndescent-0.5.7-py3-none-any.whl size=54286 sha256=9c523a68dd9352cdcfe2b5c1d5fb74e51f74b52418befc6e617c841b4b57b37c\n",
            "  Stored in directory: /root/.cache/pip/wheels/7f/2a/f8/7bd5dcec71bd5c669f6f574db3113513696b98f3f9b51f496c\n",
            "Successfully built umap-learn pynndescent\n",
            "Installing collected packages: commonmark, chex, rich, optax, pynndescent, flax, umap-learn, jax-resnet\n",
            "Successfully installed chex-0.1.5 commonmark-0.9.1 flax-0.6.1 jax-resnet-0.0.4 optax-0.1.3 pynndescent-0.5.7 rich-12.6.0 umap-learn-0.5.3\n"
          ]
        }
      ],
      "source": [
        "%pip install jax-resnet optax umap-learn"
      ]
    },
    {
      "cell_type": "code",
      "source": [
        "import torchvision\n",
        "from jax import random\n",
        "import numpy as np\n",
        "from torch.utils import data\n",
        "from sklearn.datasets import load_digits\n",
        "from sklearn.model_selection import train_test_split\n",
        "from sklearn.preprocessing import StandardScaler, normalize\n",
        "import matplotlib.pyplot as plt\n",
        "import seaborn as sns\n",
        "import pandas as pd\n",
        "import umap\n",
        "import jax\n",
        "import optax\n",
        "from flax.training import train_state\n",
        "from typing import Any\n",
        "import tqdm\n",
        "import jax.numpy as jnp\n",
        "import jax_resnet\n",
        "from jax.config import config\n",
        "import flax.linen as nn\n",
        "from flax.core.frozen_dict import freeze, unfreeze\n",
        "config.update(\"jax_debug_nans\", True)"
      ],
      "metadata": {
        "id": "hLuiJEqAv-Ei"
      },
      "execution_count": 2,
      "outputs": []
    },
    {
      "cell_type": "code",
      "execution_count": 3,
      "metadata": {
        "id": "ll_OnOlThl-U"
      },
      "outputs": [],
      "source": [
        "# Augmentation\n",
        "\n",
        "# Slightly changed from source: \n",
        "# https://github.com/Spijkervet/SimCLR/blob/master/simclr/modules/transformations/simclr.py\n",
        "\n",
        "class TransformsSimCLR:\n",
        "    \"\"\"\n",
        "    A stochastic data augmentation module that transforms any given data example randomly\n",
        "    resulting in two correlated views of the same example,\n",
        "    denoted x i and x j, which we consider as a positive pair.\n",
        "    \"\"\"\n",
        "\n",
        "    def __init__(self, is_pretrain=True, is_val=False):\n",
        "        self.is_pretrain=is_pretrain\n",
        "        self.is_val=is_val\n",
        "        s = 1\n",
        "        color_jitter = torchvision.transforms.ColorJitter(\n",
        "            0.8 * s, 0.8 * s, 0.8 * s, 0.2 * s\n",
        "        )\n",
        "        self.train_transform = torchvision.transforms.Compose(\n",
        "            [\n",
        "                torchvision.transforms.RandomHorizontalFlip(),  # with 0.5 probability\n",
        "                torchvision.transforms.RandomApply([color_jitter], p=0.8),\n",
        "                torchvision.transforms.RandomGrayscale(p=0.2),\n",
        "                torchvision.transforms.Lambda(np.array),\n",
        "            ]\n",
        "        )\n",
        "\n",
        "        self.test_transform = torchvision.transforms.Compose(\n",
        "            [\n",
        "                torchvision.transforms.Lambda(np.array),\n",
        "            ]\n",
        "        )\n",
        "\n",
        "    def __call__(self, x):\n",
        "        if self.is_pretrain:\n",
        "          return self.train_transform(x), self.train_transform(x)\n",
        "        else:\n",
        "          if self.is_val:\n",
        "            return self.test_transform(x)\n",
        "          else:\n",
        "            return self.train_transform(x)"
      ]
    },
    {
      "cell_type": "code",
      "source": [
        "def compute_validation_performance(state, val_data_loader):\n",
        "  \"\"\"\n",
        "  Computes the given model's mean loss and accuracy on the validation set.\n",
        "  \"\"\"\n",
        "  val_losses = []\n",
        "  val_accs = []\n",
        "\n",
        "  val_dl_tqdm = tqdm.tqdm(val_data_loader)\n",
        "\n",
        "  for X, Y in val_dl_tqdm:\n",
        "    \n",
        "    loss, accuracy = eval_step(state, X, Y)\n",
        "    val_losses.append(loss)\n",
        "    val_accs.append(accuracy)\n",
        "\n",
        "    val_dl_tqdm.set_postfix({'val_loss': loss.item(), 'val_acc': accuracy.item()})\n",
        "\n",
        "  return jnp.array(val_losses).mean().item(), jnp.array(val_accs).mean().item()\n",
        "\n",
        "\n",
        "@jax.jit\n",
        "def eval_step(state, X, Y):\n",
        "\n",
        "    logits = state.apply_fn({'params': state.params, \n",
        "                             'batch_stats': state.batch_stats}, X,\n",
        "                              mutable=False)\n",
        "    labels = jax.nn.one_hot(Y, num_classes=10)\n",
        "    loss = optax.softmax_cross_entropy(logits, labels).mean()\n",
        "    accuracy = jnp.mean(jnp.argmax(logits, -1) == Y)\n",
        "\n",
        "    return loss, accuracy"
      ],
      "metadata": {
        "id": "QEACTPr46DUv"
      },
      "execution_count": 4,
      "outputs": []
    },
    {
      "cell_type": "code",
      "execution_count": 5,
      "metadata": {
        "id": "D3GQ21tkwS6t"
      },
      "outputs": [],
      "source": [
        "# Data loader\n",
        "\n",
        "# Source: https://jax.readthedocs.io/en/latest/notebooks/Neural_Network_and_Data_Loading.html\n",
        "\n",
        "def numpy_collate(batch):\n",
        "  if isinstance(batch[0], np.ndarray):\n",
        "    return np.stack(batch)\n",
        "  elif isinstance(batch[0], (tuple,list)):\n",
        "    transposed = zip(*batch)\n",
        "    return [numpy_collate(samples) for samples in transposed]\n",
        "  else:\n",
        "    return np.array(batch)\n",
        "\n",
        "class NumpyLoader(data.DataLoader):\n",
        "  def __init__(self, dataset, batch_size=1,\n",
        "                shuffle=False, sampler=None,\n",
        "                batch_sampler=None, num_workers=0,\n",
        "                pin_memory=False, drop_last=False,\n",
        "                timeout=0, worker_init_fn=None):\n",
        "    super(self.__class__, self).__init__(dataset,\n",
        "        batch_size=batch_size,\n",
        "        shuffle=shuffle,\n",
        "        sampler=sampler,\n",
        "        batch_sampler=batch_sampler,\n",
        "        num_workers=num_workers,\n",
        "        collate_fn=numpy_collate,\n",
        "        pin_memory=pin_memory,\n",
        "        drop_last=drop_last,\n",
        "        timeout=timeout,\n",
        "        worker_init_fn=worker_init_fn)"
      ]
    },
    {
      "cell_type": "code",
      "source": [
        "# Source: https://colab.research.google.com/drive/1Y2IiAG69nKQSoIKAOAWC8uypdP7TGFqF?usp=sharing#scrollTo=TqDvTL_tIQCH\n",
        "def zero_grads():\n",
        "    def init_fn(_): \n",
        "        return ()\n",
        "    def update_fn(updates, state, params=None):\n",
        "        return jax.tree_map(jnp.zeros_like, updates), ()\n",
        "    return optax.GradientTransformation(init_fn, update_fn)"
      ],
      "metadata": {
        "id": "lx05jkbspj-4"
      },
      "execution_count": 6,
      "outputs": []
    },
    {
      "cell_type": "code",
      "execution_count": 7,
      "metadata": {
        "id": "yHz8UtWz9gK6"
      },
      "outputs": [],
      "source": [
        "# Training functions\n",
        "\n",
        "# Adapted from source: https://github.com/google/flax/blob/main/examples/mnist/train.py\n",
        "# Parts that use batch norm adapted from https://github.com/google/flax/blob/main/examples/imagenet/train.py\n",
        "\n",
        "@jax.jit\n",
        "def apply_model(state, X1, X2):\n",
        "  \"\"\"Computes gradients, loss and accuracy for a single batch.\"\"\"\n",
        "  tau = 0.07\n",
        "  def loss_fn(params):\n",
        "    Z1, new_model_state = state.apply_fn({'params': params, \n",
        "                             'batch_stats': state.batch_stats}, X1,\n",
        "                              mutable=['batch_stats'])\n",
        "    Z2, new_model_state = state.apply_fn({'params': params, # We probably want to combine the two new model states, but how?\n",
        "                             'batch_stats': state.batch_stats}, X2,\n",
        "                              mutable=['batch_stats'])\n",
        "    loss = NTXent(Z1, Z2, tau)\n",
        "    return loss, (new_model_state, Z1, Z2)\n",
        "\n",
        "  grad_fn = jax.value_and_grad(loss_fn, has_aux=True)\n",
        "  (loss, (new_model_state, Z1, Z2)), grads = grad_fn(state.params)\n",
        "  \n",
        "  new_state = state.apply_gradients(\n",
        "      grads=grads, batch_stats=new_model_state['batch_stats'])\n",
        "\n",
        "  return (new_state, Z1, Z2), loss\n",
        "\n",
        "\n",
        "@jax.jit\n",
        "def apply_model_pos_only(state, X1, X2):\n",
        "  \"\"\"\n",
        "  Computes gradients, loss and accuracy for a single batch,\n",
        "  uing only positive pairs.\n",
        "  \"\"\"\n",
        "  tau = 0.5\n",
        "  def loss_fn(params):\n",
        "    Z1, new_model_state = state.apply_fn({'params': params, \n",
        "                             'batch_stats': state.batch_stats}, X1,\n",
        "                              mutable=['batch_stats'])\n",
        "    Z2, new_model_state = state.apply_fn({'params': params, # TODO Amir: We probably want to combine the two new model states, but how?\n",
        "                             'batch_stats': state.batch_stats}, X2,\n",
        "                              mutable=['batch_stats'])\n",
        "    loss = PositivesOnlyLoss(Z1, Z2)\n",
        "    return loss, (new_model_state, Z1, Z2)\n",
        "\n",
        "  grad_fn = jax.value_and_grad(loss_fn, has_aux=True)\n",
        "  (loss, (new_model_state, Z1, Z2)), grads = grad_fn(state.params)\n",
        "  \n",
        "  new_state = state.apply_gradients(\n",
        "      grads=grads, batch_stats=new_model_state['batch_stats'])\n",
        "\n",
        "  return (new_state, Z1, Z2), loss\n",
        "\n",
        "@jax.jit\n",
        "def apply_model_supervised(state, X, Y):\n",
        "  \"\"\"\n",
        "  Computes gradients, loss and accuracy for a single batch via supervised \n",
        "  training, not self-supervised training.\n",
        "  \"\"\"\n",
        "    \n",
        "  tau = 0.5\n",
        "  def loss_fn(params):\n",
        "    logits, new_model_state = state.apply_fn({'params': params, \n",
        "                             'batch_stats': state.batch_stats}, X,\n",
        "                              mutable=['batch_stats'])\n",
        "    labels = jax.nn.one_hot(Y, num_classes=10)\n",
        "    loss = optax.softmax_cross_entropy(logits, labels).mean()\n",
        "    accuracy = jnp.mean(jnp.argmax(logits, -1) == Y)\n",
        "    return loss, (new_model_state, accuracy)\n",
        "\n",
        "  grad_fn = jax.value_and_grad(loss_fn, has_aux=True)\n",
        "  (loss, (new_model_state, accuracy)), grads = grad_fn(state.params)\n",
        "  \n",
        "  new_state = state.apply_gradients(\n",
        "      grads=grads, batch_stats=new_model_state['batch_stats'])\n",
        "\n",
        "  return (new_state, accuracy), loss\n",
        "\n",
        "\n",
        "def pretrain_epoch(state, train_dl, positives_only=False):\n",
        "  \"\"\"\n",
        "  Train for a single epoch.\n",
        "  positives_only: Don't use negative pairs in contrastive training\n",
        "  \"\"\"\n",
        "\n",
        "  epoch_loss = []\n",
        "  epoch_accuracy = []\n",
        "\n",
        "  train_dl_tqdm = tqdm.tqdm(train_dl)\n",
        "\n",
        "  apply_fn = apply_model_pos_only if positives_only else apply_model\n",
        "\n",
        "  for step, ((X1,X2), Y) in enumerate(train_dl_tqdm):\n",
        "\n",
        "    (new_state, Z1, Z2), loss = apply_fn(state, X1, X2)\n",
        "    state = new_state\n",
        "    epoch_loss.append(loss)\n",
        "    train_dl_tqdm.set_postfix({'train_loss': loss.item()})\n",
        "\n",
        "  train_loss = np.mean(epoch_loss)\n",
        "  return state, train_loss\n",
        "\n",
        "def supervised_epoch(state, train_dl):\n",
        "  \"\"\"\n",
        "  Train for a single epoch with supervised loss.\n",
        "  \"\"\"\n",
        "  \n",
        "  epoch_loss = []\n",
        "  epoch_accuracy = []\n",
        "\n",
        "  train_dl_tqdm = tqdm.tqdm(train_dl)\n",
        "\n",
        "  for step, (X, Y) in enumerate(train_dl_tqdm):\n",
        "\n",
        "    (new_state, accuracy), loss = apply_model_supervised(state, X, Y)\n",
        "    state = new_state\n",
        "    epoch_loss.append(loss)\n",
        "    epoch_accuracy.append(accuracy)\n",
        "    train_dl_tqdm.set_postfix({'train_loss': loss.item(), 'train_acc': accuracy})\n",
        "\n",
        "  return state, jnp.array(epoch_loss).mean(), jnp.array(epoch_accuracy).mean()\n",
        "\n",
        "\n",
        "class TrainState(train_state.TrainState):\n",
        "  \"\"\"\n",
        "  Keeps track of the optimizer and updated parameters.\n",
        "  \"\"\"\n",
        "  batch_stats: Any\n",
        "\n",
        "def create_train_state(model, params, config, freeze_encoder=False):\n",
        "  if freeze_encoder:\n",
        "    tx = optax.multi_transform({'zero': zero_grads(), \n",
        "                                'sgd': optax.sgd(config[\"learning_rate\"], \n",
        "                                                  config[\"momentum\"])},\n",
        "                                freeze({'backbone':'zero', 'head': 'sgd'}))\n",
        "  else:\n",
        "    tx = optax.sgd(config[\"learning_rate\"], config[\"momentum\"])\n",
        "  return TrainState.create(\n",
        "      apply_fn=model.apply, params=params[\"params\"], tx=tx, \n",
        "      batch_stats=params[\"batch_stats\"])\n",
        "  "
      ]
    },
    {
      "cell_type": "markdown",
      "metadata": {
        "id": "R-jldvhKyQZe"
      },
      "source": [
        "# Dataset\n",
        "\n",
        "We are going to use the CIFAR10 dataset. It consists of 10 classes, each represented by 6000 RGB-images of size 32x32.\n",
        "\n",
        "Have a look at a few images. "
      ]
    },
    {
      "cell_type": "code",
      "execution_count": 8,
      "metadata": {
        "id": "pvqiAtVByLcx",
        "colab": {
          "base_uri": "https://localhost:8080/",
          "height": 118,
          "referenced_widgets": [
            "50962a8b54ca495d83f43e7a7a04740e",
            "e5a3acc5bd114f25bf7ca64c63465753",
            "2667369bc5a04a7e945480ed3ca59cd0",
            "eeb7f1832ffd46789259bf1866321d95",
            "7656b60c0acd4b5aa1160341f4d3771d",
            "44549b87ef3443fb9da4606c1255f207",
            "2341c54e12c2436f9c17fc4364126737",
            "983cf5f62c1144eca6bc26a9b7c79cb7",
            "f0c51f31ed1147ecb55de0b17c89f1dd",
            "d898951063304256977589104be5a383",
            "9956ee3e7e9c40559a3e6732b59138ee"
          ]
        },
        "outputId": "cf2b021f-dd4b-4d79-fc31-711f12930bf0"
      },
      "outputs": [
        {
          "output_type": "stream",
          "name": "stdout",
          "text": [
            "Downloading https://www.cs.toronto.edu/~kriz/cifar-10-python.tar.gz to ./cifar10/cifar-10-python.tar.gz\n"
          ]
        },
        {
          "output_type": "display_data",
          "data": {
            "text/plain": [
              "  0%|          | 0/170498071 [00:00<?, ?it/s]"
            ],
            "application/vnd.jupyter.widget-view+json": {
              "version_major": 2,
              "version_minor": 0,
              "model_id": "50962a8b54ca495d83f43e7a7a04740e"
            }
          },
          "metadata": {}
        },
        {
          "output_type": "stream",
          "name": "stdout",
          "text": [
            "Extracting ./cifar10/cifar-10-python.tar.gz to ./cifar10\n",
            "Files already downloaded and verified\n",
            "Files already downloaded and verified\n"
          ]
        }
      ],
      "source": [
        "full_pretrain_dataset = torchvision.datasets.CIFAR10(\n",
        "        './cifar10',\n",
        "        download=True,\n",
        "        transform=TransformsSimCLR(is_pretrain=True, is_val=False),\n",
        "        train=True\n",
        "    )\n",
        "\n",
        "full_supervised_dataset = torchvision.datasets.CIFAR10(\n",
        "        './cifar10',\n",
        "        download=True,\n",
        "        transform=TransformsSimCLR(is_pretrain=False, is_val=False),\n",
        "        train=True\n",
        "    )\n",
        "\n",
        "val_dataset = torchvision.datasets.CIFAR10(\n",
        "        './cifar10',\n",
        "        download=True,\n",
        "        transform=TransformsSimCLR(is_pretrain=False, is_val=True),\n",
        "        train=False\n",
        "    )"
      ]
    },
    {
      "cell_type": "code",
      "source": [
        "# Create a labeled dataset with only 1% of the labels\n",
        "import torch\n",
        "from sklearn.model_selection import StratifiedKFold\n",
        "\n",
        "sk = StratifiedKFold(n_splits=100, shuffle=True, random_state=0)\n",
        "splits = sk.split(np.zeros(len(full_supervised_dataset)), full_supervised_dataset.targets)\n",
        "_, train_idc = list(splits)[0]\n",
        "\n",
        "supervised_dataset_1p = torch.utils.data.Subset(full_supervised_dataset, train_idc)\n",
        "\n",
        "pretrain_dataset = full_pretrain_dataset"
      ],
      "metadata": {
        "id": "eDDW-o7aojc7"
      },
      "execution_count": 9,
      "outputs": []
    },
    {
      "cell_type": "code",
      "execution_count": 10,
      "metadata": {
        "id": "P3MnHp8l0H9t",
        "colab": {
          "base_uri": "https://localhost:8080/",
          "height": 304
        },
        "outputId": "e2e249d6-3c7e-4cfb-8a5e-b3af5cc95162"
      },
      "outputs": [
        {
          "output_type": "stream",
          "name": "stdout",
          "text": [
            "Image x1 shape:  (32, 32, 3) \n",
            "Image x2 shape:  (32, 32, 3) \n",
            "class index y:  9 \n",
            "\n"
          ]
        },
        {
          "output_type": "execute_result",
          "data": {
            "text/plain": [
              "<matplotlib.image.AxesImage at 0x7fba7e530810>"
            ]
          },
          "metadata": {},
          "execution_count": 10
        },
        {
          "output_type": "display_data",
          "data": {
            "text/plain": [
              "<Figure size 432x288 with 1 Axes>"
            ],
            "image/png": "[encoded data removed]"
          },
          "metadata": {
            "needs_background": "light"
          }
        }
      ],
      "source": [
        "import matplotlib.pyplot as plt\n",
        "import numpy as np\n",
        "\n",
        "(x1,x2), y = pretrain_dataset[1]\n",
        "print(\"Image x1 shape: \", x1.shape, \n",
        "      \"\\nImage x2 shape: \", x2.shape, \n",
        "      \"\\nclass index y: \", y, \"\\n\")\n",
        "\n",
        "merged_images = np.concatenate([x1,x2], axis=1)\n",
        "plt.imshow(merged_images)"
      ]
    },
    {
      "cell_type": "markdown",
      "metadata": {
        "id": "vDNcEEJR3t-l"
      },
      "source": [
        "You maybe have noticed that the transformation module we use directly gives us two images instead of one. They are always two differently augmented versions of the same source image. This will be needed for SimCLR, which teaches the network to recognise that these two images show the same object, despite the differences introduced by the augmentations."
      ]
    },
    {
      "cell_type": "markdown",
      "metadata": {
        "id": "e1TV2AUu5hG_"
      },
      "source": [
        "# Contrastive learning\n",
        "\n",
        "The basic idea of contrastive learning is to learn by comparison. In the following image, the model is supposed to learn that the first two pictures show the same object, but the third one does not. Kind of like in the children's game Memory, where you try to find two matching tiles. Just... without the memory part. All the tiles are turned face up. \n",
        "\n",
        "Contrastive learning is a really stupid version of Memory.\n",
        "\n",
        "\n"
      ]
    },
    {
      "cell_type": "code",
      "execution_count": 11,
      "metadata": {
        "id": "5ol_liYy3s8a",
        "colab": {
          "base_uri": "https://localhost:8080/",
          "height": 179
        },
        "outputId": "1e40f69a-9393-4864-ee16-080532231c83"
      },
      "outputs": [
        {
          "output_type": "execute_result",
          "data": {
            "text/plain": [
              "<matplotlib.image.AxesImage at 0x7fba7e48fc90>"
            ]
          },
          "metadata": {},
          "execution_count": 11
        },
        {
          "output_type": "display_data",
          "data": {
            "text/plain": [
              "<Figure size 432x288 with 1 Axes>"
            ],
            "image/png": "[encoded data removed]"
          },
          "metadata": {
            "needs_background": "light"
          }
        }
      ],
      "source": [
        "(x00,x01), y0 = pretrain_dataset[1]\n",
        "(x10,x11), y1 = pretrain_dataset[4]\n",
        "merged_images = np.concatenate([x00,x01,x10], axis=1)\n",
        "plt.imshow(merged_images)"
      ]
    },
    {
      "cell_type": "markdown",
      "metadata": {
        "id": "GcFqHcaO6wNs"
      },
      "source": [
        "On a mathematical level, the model outputs a feature vector (an embedding) for each input image. The embeddings of similar images (like the two images on the left) are encouraged to move closer to each other, while embeddings of dissimilar images (middle and right image) should move away from each other.\n",
        "\n",
        "This approach is fundamentally different from supervised learning. While supervised learning prescribes the exact output that the model is supposed to produce for a given input, contrastive learning only cares about the *relationship between different outputs*.\n",
        "\n",
        "Image pairs that we, the user, define as similar are called **positive pairs**, all others are **negative pairs**."
      ]
    },
    {
      "cell_type": "markdown",
      "metadata": {
        "id": "3WZBPipS_QJK"
      },
      "source": [
        "## Similarity between images\n",
        "\n",
        "We want to be able to measure how close or far the embeddings for different images are, to see if our model can tell positive and negative pairs apart. In SimCLR, this is done using the cosine similarity. For two d-dimensional embeddings $z_1$ and $z_2$, it provides a measure for how similar they are. \n",
        "\n",
        "$cos(z_1,z_2) = \\frac{z_1}{|z_1|} \\cdot \\frac{z_2}{|z_2|}$"
      ]
    },
    {
      "cell_type": "markdown",
      "metadata": {
        "id": "NwMAR6Rq7MBE"
      },
      "source": [
        "**Task** Implement the cosine similarity function below. It should also work if $Z_1$ and $Z_2$ are batches of shape [batch, features] and produce an output of shape [batch], containing the cosine similarities between the two feature vectors in the same row.\n",
        "\n",
        "Hint: Using for-loops here works, but is really inefficient. The efficient implementation operates on matrices, not on individual elements. It mostly looks like the equation above. If you get a problem with broadcasting between different shapes when you try to normalize $Z_1$ and $Z_2$, the function jnp.expand_dims might be useful."
      ]
    },
    {
      "cell_type": "code",
      "execution_count": 12,
      "metadata": {
        "id": "x9Y72aaMBxaD"
      },
      "outputs": [],
      "source": [
        "import jax.numpy as jnp\n",
        "\n",
        "def cosine_similarity(Z1, Z2):\n",
        "  \"\"\"\n",
        "  Z1, Z2: Batches of image embeddings of shape [Batch,EmbeddingDim]. Z1[i,:] and\n",
        "          Z2[i,:] represent two differently augmented versions of the same image\n",
        "\n",
        "  Returns: row-wise cosine similarity between row-vectors in Z1 and Z2, \n",
        "           shape [Batch]\n",
        "  \"\"\"\n",
        "\n",
        "  Z1_norm = jnp.expand_dims(jnp.linalg.norm(Z1,axis=1),axis=1)\n",
        "  Z1_normalised = Z1/Z1_norm\n",
        "\n",
        "  Z2_norm = jnp.expand_dims(jnp.linalg.norm(Z2,axis=1),axis=1)\n",
        "  Z2_normalised = Z2/Z2_norm\n",
        "\n",
        "  cos_sims = jnp.diag(jnp.matmul(Z1_normalised,Z2_normalised.T))\n",
        "  return cos_sims\n",
        "\n",
        "  "
      ]
    },
    {
      "cell_type": "markdown",
      "metadata": {
        "id": "kE0_flzSCp7S"
      },
      "source": [
        "Verify your implementation:"
      ]
    },
    {
      "cell_type": "code",
      "execution_count": 13,
      "metadata": {
        "id": "p3f_d3ha7qZ7",
        "colab": {
          "base_uri": "https://localhost:8080/"
        },
        "outputId": "6acd4b68-9ebf-42b0-c542-191c76de173f"
      },
      "outputs": [
        {
          "output_type": "execute_result",
          "data": {
            "text/plain": [
              "(4, 8)"
            ]
          },
          "metadata": {},
          "execution_count": 13
        }
      ],
      "source": [
        "# Use these sample inputs to verify that your implementation is correct.\n",
        "# You can interpret Z1 and Z2 as batches of image embeddings with eight features\n",
        "# per image.\n",
        "\n",
        "random_key_0, *subkeys = random.split(random.PRNGKey(0), 3)\n",
        "\n",
        "#Batch size = 4\n",
        "#Features = 8\n",
        "Z1 = jnp.array(\n",
        "    [[0.08780523,-1.4772962,0.23108286,0.3828757,0.42218092,-1.4358605,0.17658076,1.4141593],\n",
        "    [-0.43024102,-0.2960915,0.64877045,1.0952688,0.10887499,2.5801923,-0.46863857,-0.07292866],\n",
        "    [0.8462296,-0.9795519,-0.17020774,0.5177701,-1.2235159,0.56981355,1.1847981,-1.9526129],\n",
        "    [-2.2450106,0.8794637,0.2156571,0.22987445,-0.8855504,0.180139,0.75102454,0.79618496]])\n",
        "\n",
        "Z2 = jnp.array(\n",
        "    [[0.78220856,-0.95930517,0.04278377,-0.14640434,-0.45225152,-0.164141,1.0146061,0.19397569],\n",
        "    [-0.7706246,-0.35345954,-0.67818415,-1.1203834,-0.30522528,0.669694, 1.2020552,0.87423134],\n",
        "    [0.43238065,-0.18009177,-0.13709433,-0.33463678,-1.1886245,-0.35386798,-1.0499382,0.10795221],\n",
        "    [0.23042125,-1.5269405,0.771874,-0.1904757,-1.5630287,0.8980937,-1.9551364,-0.0497684]])\n",
        "Z1.shape"
      ]
    },
    {
      "cell_type": "code",
      "execution_count": 14,
      "metadata": {
        "id": "o90UHAJP8ENE"
      },
      "outputs": [],
      "source": [
        "your_output = cosine_similarity(Z1, Z2)\n",
        "desired_output = jnp.array([ 0.44447064, -0.02418898,  0.03658391, -0.19001874])\n",
        "\n",
        "np.testing.assert_array_almost_equal(your_output, desired_output)"
      ]
    },
    {
      "cell_type": "markdown",
      "source": [
        "**Task** Wait a minute, why don't we just use the length of the difference vector $|z_1-z_2|$ instead of the cosine similarity? It's easier to compute, which could even speed up our training!"
      ],
      "metadata": {
        "id": "aAOXW2Xdq5k8"
      }
    },
    {
      "cell_type": "markdown",
      "metadata": {
        "id": "yidDdY72Azuv"
      },
      "source": [
        "**Answer** \n",
        "|z1-z2| is not appropriate to compute the similarity. We want to give high similarity to vectors having similar directions. Cosine similarity allows us to have similar images in similar directions."
      ]
    },
    {
      "cell_type": "markdown",
      "metadata": {
        "id": "NkcxSyrE9Kkj"
      },
      "source": [
        "## Loss function\n",
        "\n",
        "This is the point in the exercise where you need to think a bit. While the loss function is not very complex, you do need to figure out how you compute it for batched data. The paper only shows how to compute it for a single example. This is a problem that will often come up when implementing papers, so investing some time to work your brain will really pay off.\n",
        "\n",
        "If you have tried for a bit and get stuck somewhere, feel free to use the hints below that are based on where the TA needed a bit longer for the implementation than he would have liked.\n",
        "\n",
        "**Task** Implement the loss function (equation 1 in the paper) for a whole batch of image embeddings."
      ]
    },
    {
      "cell_type": "code",
      "source": [],
      "metadata": {
        "id": "q4PuprWGM462"
      },
      "execution_count": 14,
      "outputs": []
    },
    {
      "cell_type": "code",
      "execution_count": 15,
      "metadata": {
        "id": "0eovqgn4_kbi"
      },
      "outputs": [],
      "source": [
        "@jax.jit\n",
        "def NTXent(Z1, Z2, tau):\n",
        "  \"\"\"\n",
        "  Z1, Z2: Batches of image embeddings of shape [Batch,EmbeddingDim]. Z1[i,:] and\n",
        "          Z2[i,:] represent two differently augmented versions of the same image\n",
        "  tau   : Temperature parameter for softmax\n",
        "\n",
        "  Returns: NTXent loss between Z1 and Z2, a single number\n",
        "  \"\"\"\n",
        "\n",
        "  N = Z1.shape[0]\n",
        "  Z1_Z2 = jnp.vstack([Z1,Z2])\n",
        "\n",
        "  Z1_Z2_norm = jnp.expand_dims(jnp.linalg.norm(Z1_Z2,axis=1),axis=1)\n",
        "  Z1Z2_normalised = Z1_Z2/Z1_Z2_norm\n",
        "\n",
        "\n",
        "  cos_sims = jnp.matmul(Z1Z2_normalised,Z1Z2_normalised.T) #2N x 2N matrix\n",
        "\n",
        "  exp_sims = jnp.exp(cos_sims/tau)\n",
        "\n",
        "  eye_invert = (jnp.eye(2*N)==0).astype(int)\n",
        "\n",
        "  denominator_sums = jnp.sum(exp_sims*eye_invert,axis=1)\n",
        "\n",
        "  L = 0\n",
        "  for i in range(N):\n",
        "    l_ij = -jnp.log(exp_sims[i,N+i]/denominator_sums[i])\n",
        "    l_ji = -jnp.log(exp_sims[N+i,i]/denominator_sums[i+N])\n",
        "    l = l_ij+l_ji\n",
        "    L += l\n",
        "\n",
        "  L = L/(2*N)\n",
        "  return L\n"
      ]
    },
    {
      "cell_type": "markdown",
      "metadata": {
        "id": "-Wm2m6xZCvS0"
      },
      "source": [
        "Verify your implementation:"
      ]
    },
    {
      "cell_type": "code",
      "execution_count": 16,
      "metadata": {
        "id": "PiKEMFQyARZT"
      },
      "outputs": [],
      "source": [
        "your_output = NTXent(Z1, Z2, 0.07)\n",
        "desired_output = 6.792835\n",
        "\n",
        "np.testing.assert_array_almost_equal(your_output, desired_output)"
      ]
    },
    {
      "cell_type": "markdown",
      "metadata": {
        "id": "_jDu2uOaEspK"
      },
      "source": [
        "### Hint 1"
      ]
    },
    {
      "cell_type": "markdown",
      "source": [
        "Depending on how you programmed your cosine similarity, it may be more straight-forward to just recompute the similarities here instead of using your own function."
      ],
      "metadata": {
        "id": "vaSmGkAsrqNb"
      }
    },
    {
      "cell_type": "markdown",
      "source": [
        "### Hint 2\n"
      ],
      "metadata": {
        "id": "YEFWWqTfrunL"
      }
    },
    {
      "cell_type": "markdown",
      "source": [
        "The denominator contains all similarities between (i,k). Only the self-similarity (i,i) is left out. The similarity between (i,j) that's in the nominator is included in the denominator."
      ],
      "metadata": {
        "id": "Cz0cu-GNrzp1"
      }
    },
    {
      "cell_type": "markdown",
      "source": [
        "### Hint 3\n",
        "\n"
      ],
      "metadata": {
        "id": "B0zXALj9rzNs"
      }
    },
    {
      "cell_type": "markdown",
      "source": [
        "You must compute the terms for both image pairs (i,j) _and_ (j,i). They will generally be different, even though on first glance they seem very similar."
      ],
      "metadata": {
        "id": "pR3_fYHsr0bF"
      }
    },
    {
      "cell_type": "markdown",
      "source": [
        "### Hint 4"
      ],
      "metadata": {
        "id": "lVjt4SNyrz8H"
      }
    },
    {
      "cell_type": "markdown",
      "metadata": {
        "id": "0TJ8xwdxGUtI"
      },
      "source": [
        "It's quite useful to have a matrix of all pairwise cosine similarities to compute everything you need. "
      ]
    },
    {
      "cell_type": "markdown",
      "source": [
        "### Hint 5"
      ],
      "metadata": {
        "id": "VF3QqWiQkvk8"
      }
    },
    {
      "cell_type": "markdown",
      "source": [
        "Depending on how you implemented the cosine similarity, you might be able to compute the matrix of pairwise cosine similarities with the following line: \n",
        "`cosine_similarity(jnp.expand_dims(Zs, axis=1), jnp.expand_dims(Zs, axis=0))`"
      ],
      "metadata": {
        "id": "N4GGmk4LkzNi"
      }
    },
    {
      "cell_type": "markdown",
      "metadata": {
        "id": "HBoUg6L-DDOl"
      },
      "source": [
        "## Define the model\n",
        "\n",
        "After coding the loss function, we now need a model that we can train with it!\n",
        "\n",
        "We use a simple ResNet18 as our encoder model. It ends in a global average pooling, followed by a linear layer. We discard the linear layer and stick a projection head to the end of the model instead. \n",
        "\n",
        "You could also make use of that layer instead of removing it and then attaching a new linear layer as part of the projection head, but it's a bit cleaner this way."
      ]
    },
    {
      "cell_type": "code",
      "source": [
        "# Load randomly initialized ResNet.\n",
        "\n",
        "# n_classes doesn't matter, we remove the only layer impacted by it anyway.\n",
        "# But we need to pass it to construct a ResNet. \n",
        "base_model = jax_resnet.ResNet18(n_classes=2) \n",
        "\n",
        "# Initialize the model's parameters. A dummy input is required to infer which \n",
        "# shape the parameters need to have\n",
        "random_key_1, *subkeys = random.split(random_key_0, 3)\n",
        "dummy_input = random.normal(subkeys[0],(8,32,32,3))\n",
        "base_params = base_model.init(rngs=subkeys[1], x=dummy_input)\n",
        "\n",
        "# Test whether everything works, \n",
        "# mutable=False ensures that batch_norm statistics aren't updated\n",
        "output = base_model.apply(base_params, dummy_input, mutable=False)\n",
        "output.shape, output.dtype"
      ],
      "metadata": {
        "id": "q0J0kysj6cP5",
        "colab": {
          "base_uri": "https://localhost:8080/"
        },
        "outputId": "7cd4326c-6a12-4379-9a2e-8e01959da878"
      },
      "execution_count": 17,
      "outputs": [
        {
          "output_type": "execute_result",
          "data": {
            "text/plain": [
              "((8, 2), dtype('float32'))"
            ]
          },
          "metadata": {},
          "execution_count": 17
        }
      ]
    },
    {
      "cell_type": "code",
      "execution_count": 18,
      "metadata": {
        "id": "pm4n9NcYjzcg",
        "colab": {
          "base_uri": "https://localhost:8080/"
        },
        "outputId": "b663a056-47a7-4469-c744-d501350da4a1"
      },
      "outputs": [
        {
          "output_type": "execute_result",
          "data": {
            "text/plain": [
              "((8, 128), dtype('float32'))"
            ]
          },
          "metadata": {},
          "execution_count": 18
        }
      ],
      "source": [
        "# Source: https://www.kaggle.com/code/roguekk007/flax-model-surgery\n",
        "\n",
        "class EncoderWithProjectionHead(nn.Module):\n",
        "    encoder : nn.Sequential\n",
        "\n",
        "    def setup(self):\n",
        "        self.proj_head = nn.Sequential([\n",
        "            nn.Dense(features=128), \n",
        "            nn.relu, \n",
        "            nn.Dense(features=128)\n",
        "            ])\n",
        "\n",
        "    def __call__(self, x):\n",
        "        x = self.encoder(x)\n",
        "        return self.proj_head(x)\n",
        "\n",
        "# Use all of ResNet, except for the last layer\n",
        "encoder = nn.Sequential(base_model.layers[:-1])\n",
        "encoder_with_proj_head = EncoderWithProjectionHead(encoder=encoder)\n",
        "\n",
        "random_key_2, subkey = jax.random.split(random_key_1)\n",
        "pretrain_params = encoder_with_proj_head.init(subkey, dummy_input)\n",
        "\n",
        "# Overwrite the randomly initialized parameters with the ones we got from pretraining\n",
        "pretrain_params = unfreeze(pretrain_params)\n",
        "pretrain_params['params']['backbone'] = base_params[\"params\"] \n",
        "pretrain_params['batch_stats']['backbone'] = base_params[\"batch_stats\"]\n",
        "pretrain_params = freeze(pretrain_params)\n",
        "\n",
        "# Test whether everything works\n",
        "output = encoder_with_proj_head.apply(pretrain_params, dummy_input, mutable=False)\n",
        "output.shape, output.dtype"
      ]
    },
    {
      "cell_type": "markdown",
      "metadata": {
        "id": "hPJiOE1joICF"
      },
      "source": [
        "## Train the model using your loss function\n",
        "\n",
        "Let's see what your loss function can do in practice! This should not take more than 2 minutes per epoch. If it does, make sure you are using a GPU environment."
      ]
    },
    {
      "cell_type": "code",
      "execution_count": 19,
      "metadata": {
        "id": "dnS_hX7l2Kfu",
        "colab": {
          "base_uri": "https://localhost:8080/"
        },
        "outputId": "35952273-c40e-48d1-e8bb-0fb36f9adb33"
      },
      "outputs": [
        {
          "output_type": "stream",
          "name": "stderr",
          "text": [
            "100%|██████████| 391/391 [02:45<00:00,  2.36it/s, train_loss=0.331]\n"
          ]
        },
        {
          "output_type": "stream",
          "name": "stdout",
          "text": [
            "Epoch 0: pretrain loss 3.049849033355713\n"
          ]
        },
        {
          "output_type": "stream",
          "name": "stderr",
          "text": [
            "100%|██████████| 391/391 [01:54<00:00,  3.41it/s, train_loss=0.165]\n"
          ]
        },
        {
          "output_type": "stream",
          "name": "stdout",
          "text": [
            "Epoch 1: pretrain loss 0.3227316737174988\n"
          ]
        },
        {
          "output_type": "stream",
          "name": "stderr",
          "text": [
            "100%|██████████| 391/391 [01:55<00:00,  3.40it/s, train_loss=0.0827]\n"
          ]
        },
        {
          "output_type": "stream",
          "name": "stdout",
          "text": [
            "Epoch 2: pretrain loss 0.1672963947057724\n"
          ]
        },
        {
          "output_type": "stream",
          "name": "stderr",
          "text": [
            "100%|██████████| 391/391 [01:55<00:00,  3.38it/s, train_loss=0.0312]\n"
          ]
        },
        {
          "output_type": "stream",
          "name": "stdout",
          "text": [
            "Epoch 3: pretrain loss 0.11962350457906723\n"
          ]
        },
        {
          "output_type": "stream",
          "name": "stderr",
          "text": [
            "100%|██████████| 391/391 [01:55<00:00,  3.40it/s, train_loss=0.175]"
          ]
        },
        {
          "output_type": "stream",
          "name": "stdout",
          "text": [
            "Epoch 4: pretrain loss 0.09647758305072784\n"
          ]
        },
        {
          "output_type": "stream",
          "name": "stderr",
          "text": [
            "\n"
          ]
        }
      ],
      "source": [
        "config = {\"learning_rate\": 0.01, \"momentum\": 0.9}\n",
        "pretrain_dataloader = NumpyLoader(pretrain_dataset, batch_size=128)\n",
        "\n",
        "pretrain_state = create_train_state(encoder_with_proj_head, pretrain_params, config)\n",
        "\n",
        "for epoch in range(5):\n",
        "\n",
        "  pretrain_state, pretrain_loss = pretrain_epoch(pretrain_state, \n",
        "                                                 pretrain_dataloader)\n",
        "  print(f\"Epoch {epoch}: pretrain loss {pretrain_loss}\")"
      ]
    },
    {
      "cell_type": "markdown",
      "metadata": {
        "id": "qyXN8S4GgZcY"
      },
      "source": [
        "Hopefully you saw the loss going down! This is contrastive learning in practice. Simply by comparing positive and negative samples, the model gets trained. Of course, we still need to evaluate how useful the learned features are.\n",
        "\n",
        " But before that: Why do we even bother with negative pairs? "
      ]
    },
    {
      "cell_type": "markdown",
      "source": [
        "## Intermezzo: Focusing on the positive\n",
        "\n",
        "\n",
        "**Task** \n",
        "1. What would we need to change in our loss function to only use positive pairs? \n",
        "2. What do you think the effect would be on training?\n",
        "\n",
        "Please answer this question before running the code below, which will give you the answer. You don't need to guess right, but you are expected to think about it and make an educated guess based on your understanding. "
      ],
      "metadata": {
        "id": "RMlom8ZV1bGi"
      }
    },
    {
      "cell_type": "markdown",
      "metadata": {
        "id": "tGrJd_drhyvO"
      },
      "source": [
        "**Answer**\n",
        "* If we consider only positive pairs, we can simply use the cosine similarity and maximise it, in other words, the loss would be the negative of cosine similarities of positive pairs\n",
        "* The model would end up giving similar embeddings to all inputs to maximise cosine similarity since there is no incentive to give different embeddings"
      ]
    },
    {
      "cell_type": "markdown",
      "source": [
        "**Task** Quickly write the loss function that only uses positive pairs, then run the code below to see whether your prediction was right."
      ],
      "metadata": {
        "id": "4FFYMjWp-PFR"
      }
    },
    {
      "cell_type": "code",
      "source": [
        "@jax.jit\n",
        "def PositivesOnlyLoss(Z1, Z2):\n",
        "  L = -jnp.sum(cosine_similarity(Z1,Z2))/4\n",
        "  return L\n",
        "\n",
        "# Verify your solution\n",
        "your_output = PositivesOnlyLoss(Z1, Z2)\n",
        "desired_output = -0.06671171\n",
        "\n",
        "np.testing.assert_array_almost_equal(your_output, desired_output)"
      ],
      "metadata": {
        "id": "MrZiHNgf9gk8"
      },
      "execution_count": 20,
      "outputs": []
    },
    {
      "cell_type": "code",
      "execution_count": 21,
      "metadata": {
        "id": "dQxYmS1i9Xg9",
        "colab": {
          "base_uri": "https://localhost:8080/"
        },
        "outputId": "abfd11ea-e018-4646-f413-9ee3ae702896"
      },
      "outputs": [
        {
          "output_type": "stream",
          "name": "stderr",
          "text": [
            "100%|██████████| 391/391 [02:24<00:00,  2.71it/s, train_loss=-20]"
          ]
        },
        {
          "output_type": "stream",
          "name": "stdout",
          "text": [
            "Epoch 0: -31.91294288635254\n"
          ]
        },
        {
          "output_type": "stream",
          "name": "stderr",
          "text": [
            "\n"
          ]
        }
      ],
      "source": [
        "# Train model using only positive pairs\n",
        "\n",
        "# Note that we can use the same model and parameters as before, since these were\n",
        "# not changed by the previous training. The updated parameters are stuck in \n",
        "# pretrain_state for now. This is part of the functional character of JAX.\n",
        "positives_only_state = create_train_state(encoder_with_proj_head, \n",
        "                                          pretrain_params, config)\n",
        "\n",
        "for epoch in range(1):\n",
        "\n",
        "  positives_only_state, pretrain_loss = pretrain_epoch(positives_only_state, \n",
        "                                                       pretrain_dataloader, \n",
        "                                                       positives_only=True)\n",
        "  print(f\"Epoch {epoch}: {jnp.mean(pretrain_loss)}\")\n"
      ]
    },
    {
      "cell_type": "markdown",
      "metadata": {
        "id": "2i1oN_gQhsCo"
      },
      "source": [
        "**Task** What did you observe? Why did this happen?"
      ]
    },
    {
      "cell_type": "markdown",
      "metadata": {
        "id": "RNAzVkBqhwGu"
      },
      "source": [
        "**Answer**\n",
        "The Model has a low and a constant loss which does not reduce further. It might be giving the same embedding irrespective of the input to achieve this loss. Therefore, positiveonly loss as defined above would not be the best metric."
      ]
    },
    {
      "cell_type": "markdown",
      "source": [
        "There are actually some more recent methods that *do* manage to use only positive pairs, without encoutering the problem you saw happen above. If you're interested how, look at one of these: [BYOL](http://arxiv.org/abs/2006.07733), [Barlow Twins](https://arxiv.org/abs/2103.03230), [SimSiam](https://arxiv.org/abs/2011.10566)"
      ],
      "metadata": {
        "id": "qGeyeeUD7RPc"
      }
    },
    {
      "cell_type": "markdown",
      "metadata": {
        "id": "YyDYu7gWdPfI"
      },
      "source": [
        "## Linear evaluation - How good are the features we learned?\n",
        "\n",
        "To judge how good the features are that we learned, we want to test how useful they are for performing the task we actually care about. For this, we use the **linear evaluation** protocol. We take the trained model, discard the projection head and freeze all the model weights. We then add a single linear layer to perform our prediction task and evaluate its performance.\n",
        "\n",
        "In JAX, freezing the weights is currently done by setting the gradients to zero. We have implemented that as part of create_train_state, so you will not see it in the code below."
      ]
    },
    {
      "cell_type": "code",
      "source": [
        "# Source: https://www.kaggle.com/code/roguekk007/flax-model-surgery\n",
        "\n",
        "class AddClassificationLayerToBackbone(nn.Module):\n",
        "    backbone : nn.Sequential\n",
        "    num_classes : int\n",
        "        \n",
        "    def setup(self):\n",
        "        self.head = nn.Dense(self.num_classes)\n",
        "    \n",
        "    def __call__(self, x):\n",
        "        x = self.backbone(x)\n",
        "        return self.head(x)\n",
        "\n",
        "backbone = encoder_with_proj_head.encoder\n",
        "finetune_model = AddClassificationLayerToBackbone(backbone=backbone, \n",
        "                                                  num_classes=10)\n",
        "\n",
        "random_key_3, subkey = jax.random.split(random_key_2)\n",
        "finetune_params = finetune_model.init(subkey, dummy_input)\n",
        "\n",
        "# Note: This unfreeze has nothing to do with the notion of freezing parameters.\n",
        "# It only allows us to write into an otherwise write-protected FrozenDict.\n",
        "finetune_params = unfreeze(finetune_params)\n",
        "\n",
        "# Overwrite the randomly initialized parameters with the ones we got from pretraining\n",
        "finetune_params['params']['backbone'] = pretrain_state.params[\"encoder\"] \n",
        "finetune_params['batch_stats']['backbone'] = pretrain_state.batch_stats[\"encoder\"]\n",
        "finetune_params = freeze(finetune_params)\n",
        "\n",
        "# Test whether everything works\n",
        "output = finetune_model.apply(finetune_params, dummy_input, mutable=False)\n",
        "output.shape, output.dtype"
      ],
      "metadata": {
        "id": "O2LP40Mu52LQ",
        "colab": {
          "base_uri": "https://localhost:8080/"
        },
        "outputId": "a3f2aa89-f1d4-497c-ff97-ebd7d21b04b1"
      },
      "execution_count": 22,
      "outputs": [
        {
          "output_type": "execute_result",
          "data": {
            "text/plain": [
              "((8, 10), dtype('float32'))"
            ]
          },
          "metadata": {},
          "execution_count": 22
        }
      ]
    },
    {
      "cell_type": "markdown",
      "source": [
        "### Finetune the model's last layer"
      ],
      "metadata": {
        "id": "DXN3KSdj-oZN"
      }
    },
    {
      "cell_type": "code",
      "source": [
        "supervised_train_dataloader = NumpyLoader(supervised_dataset_1p, batch_size=128)\n",
        "val_dataloader = NumpyLoader(val_dataset, batch_size=128)\n",
        "\n",
        "finetune_config = {\"learning_rate\": 0.01, \"momentum\": 0.9}\n",
        "finetune_state = create_train_state(finetune_model, finetune_params, finetune_config, freeze_encoder=True)\n",
        "\n",
        "for epoch in range(5):\n",
        "  finetune_state, train_loss, train_acc = supervised_epoch(state=finetune_state, train_dl=supervised_train_dataloader)\n",
        "  print(f\"Epoch {epoch}: train loss {train_loss:.2f}, train accuracy {train_acc:.2f}\")\n",
        "\n",
        "  val_loss, val_acc = compute_validation_performance(finetune_state, val_dataloader)\n",
        "  print(f\"Epoch {epoch}: val loss: {val_loss:.2f}, val accuracy: {val_acc:.2f}\\n\")"
      ],
      "metadata": {
        "id": "fS57etKU_XGq",
        "colab": {
          "base_uri": "https://localhost:8080/"
        },
        "outputId": "d8c57011-9886-4620-8310-b9b1ca171b8f"
      },
      "execution_count": 23,
      "outputs": [
        {
          "output_type": "stream",
          "name": "stderr",
          "text": [
            "100%|██████████| 4/4 [00:11<00:00,  2.90s/it, train_loss=2.39, train_acc=0.112068966]\n"
          ]
        },
        {
          "output_type": "stream",
          "name": "stdout",
          "text": [
            "Epoch 0: train loss 2.44, train accuracy 0.11\n"
          ]
        },
        {
          "output_type": "stream",
          "name": "stderr",
          "text": [
            "100%|██████████| 79/79 [00:04<00:00, 18.08it/s, val_loss=2.29, val_acc=0.0625]\n"
          ]
        },
        {
          "output_type": "stream",
          "name": "stdout",
          "text": [
            "Epoch 0: val loss: 2.33, val accuracy: 0.15\n",
            "\n"
          ]
        },
        {
          "output_type": "stream",
          "name": "stderr",
          "text": [
            "100%|██████████| 4/4 [00:00<00:00,  8.53it/s, train_loss=2.28, train_acc=0.1724138]\n"
          ]
        },
        {
          "output_type": "stream",
          "name": "stdout",
          "text": [
            "Epoch 1: train loss 2.29, train accuracy 0.18\n"
          ]
        },
        {
          "output_type": "stream",
          "name": "stderr",
          "text": [
            "100%|██████████| 79/79 [00:01<00:00, 55.06it/s, val_loss=2.3, val_acc=0.25]\n"
          ]
        },
        {
          "output_type": "stream",
          "name": "stdout",
          "text": [
            "Epoch 1: val loss: 2.23, val accuracy: 0.19\n",
            "\n"
          ]
        },
        {
          "output_type": "stream",
          "name": "stderr",
          "text": [
            "100%|██████████| 4/4 [00:00<00:00,  8.78it/s, train_loss=2.12, train_acc=0.2672414]\n"
          ]
        },
        {
          "output_type": "stream",
          "name": "stdout",
          "text": [
            "Epoch 2: train loss 2.14, train accuracy 0.26\n"
          ]
        },
        {
          "output_type": "stream",
          "name": "stderr",
          "text": [
            "100%|██████████| 79/79 [00:01<00:00, 53.27it/s, val_loss=2.3, val_acc=0.188]\n"
          ]
        },
        {
          "output_type": "stream",
          "name": "stdout",
          "text": [
            "Epoch 2: val loss: 2.16, val accuracy: 0.22\n",
            "\n"
          ]
        },
        {
          "output_type": "stream",
          "name": "stderr",
          "text": [
            "100%|██████████| 4/4 [00:00<00:00,  8.55it/s, train_loss=1.98, train_acc=0.3275862]\n"
          ]
        },
        {
          "output_type": "stream",
          "name": "stdout",
          "text": [
            "Epoch 3: train loss 2.02, train accuracy 0.29\n"
          ]
        },
        {
          "output_type": "stream",
          "name": "stderr",
          "text": [
            "100%|██████████| 79/79 [00:01<00:00, 52.99it/s, val_loss=2.31, val_acc=0.125]\n"
          ]
        },
        {
          "output_type": "stream",
          "name": "stdout",
          "text": [
            "Epoch 3: val loss: 2.12, val accuracy: 0.23\n",
            "\n"
          ]
        },
        {
          "output_type": "stream",
          "name": "stderr",
          "text": [
            "100%|██████████| 4/4 [00:00<00:00,  8.72it/s, train_loss=1.94, train_acc=0.3448276]\n"
          ]
        },
        {
          "output_type": "stream",
          "name": "stdout",
          "text": [
            "Epoch 4: train loss 1.95, train accuracy 0.31\n"
          ]
        },
        {
          "output_type": "stream",
          "name": "stderr",
          "text": [
            "100%|██████████| 79/79 [00:01<00:00, 53.39it/s, val_loss=2.34, val_acc=0.125]\n"
          ]
        },
        {
          "output_type": "stream",
          "name": "stdout",
          "text": [
            "Epoch 4: val loss: 2.12, val accuracy: 0.24\n",
            "\n"
          ]
        }
      ]
    },
    {
      "cell_type": "markdown",
      "source": [
        "## Comparison to other methods\n",
        "\n",
        "How well did our self-supervised training work? Below, you can see some values for comparison. All of them have only been run for a comparatively short time. The value in brackets indicates how many labeled images have been used in supervised training or supervised finetuning.\n",
        "- Linear evaluation from random initialization and from an ImageNet-pretrained model only train the final linear layer of the network for 5 epochs.\n",
        "- Fully supervised training starts from a randomly initialized network and trains the whole network for 5 epochs.\n",
        "- SimCLR trains for 20 epochs on the full unlabeled training dataset. Then, the final linear layer is trained for 5 epochs.\n",
        "\n",
        "| Method                                 \t| Test set accuracy \t|\n",
        "|----------------------------------------\t|-------------------\t|\n",
        "| Linear evaluation from random initialization (100% labels)         \t|     0.22              \t|\n",
        "| Linear evaluation from ImageNet pretraining (1% labels) |                    0.34                 \t|\n",
        "| Linear evaluation from ImageNet pretraining (100% labels) |                   0.41                 \t|\n",
        "| Full supervised training (1% labels)   \t|   0.33                \t|\n",
        "| Full supervised training (100% labels) \t|   0.57                \t|\n",
        "| SimCLR training (1% labels)   \t|    0.25               \t|\n",
        "| SimCLR training (100% labels)   \t|  0.33                 \t|"
      ],
      "metadata": {
        "id": "cmGce4T4BWZJ"
      }
    },
    {
      "cell_type": "markdown",
      "source": [
        "## Self-supervised learning: Great if you have few labels\n",
        "\n",
        "Using self-supervision, we can make use of unlabeled data that would be useless to supervised approaches. This way, we can often achieve much better performance than pure supervised learning would achieve, especially if the labeled dataset is comparatively small. Depending on the setting, self-supervised approaches can even perform better than pure supervised approaches without using any additional unlabeled data.\n",
        "\n",
        "**Task** In this exercise, the self-supervised model did not work as well as promised in the paper. Why is that? If you had access to any ressources you need, how would you change the setup to increase the performance and hopefully beat supervised training?"
      ],
      "metadata": {
        "id": "xfP8qK4tqf2P"
      }
    },
    {
      "cell_type": "markdown",
      "source": [
        "**Answer**\n",
        "The model is trained only for 5 epochs. If we had access to more resources(i.e. GPU), introducing more epochs could hopefully increase the performance."
      ],
      "metadata": {
        "id": "yuQ-t5o4z_MW"
      }
    },
    {
      "cell_type": "markdown",
      "source": [
        "**Task** How long did it take you to complete this practical? This information is valuable to us to balance the difficulty of different practicals."
      ],
      "metadata": {
        "id": "6IWWfgplJimF"
      }
    },
    {
      "cell_type": "markdown",
      "source": [
        "**Answer**\n",
        "Around 5 hours"
      ],
      "metadata": {
        "id": "cjrFKhgGJlhm"
      }
    },
    {
      "cell_type": "markdown",
      "metadata": {
        "id": "qHSIxSRCeGzh"
      },
      "source": [
        "# References\n",
        "[1] [Chen, Ting, et al. \"A simple framework for contrastive learning of visual representations.\" International conference on machine learning. PMLR, 2020.](https://proceedings.mlr.press/v119/chen20j.html)"
      ]
    },
    {
      "cell_type": "code",
      "source": [],
      "metadata": {
        "id": "fh7-aNi82_uo"
      },
      "execution_count": 23,
      "outputs": []
    }
  ],
  "metadata": {
    "colab": {
      "collapsed_sections": [
        "tMhB8RRhhZQN",
        "_jDu2uOaEspK",
        "YEFWWqTfrunL",
        "B0zXALj9rzNs",
        "lVjt4SNyrz8H",
        "VF3QqWiQkvk8"
      ],
      "provenance": [],
      "include_colab_link": true
    },
    "kernelspec": {
      "display_name": "Python 3",
      "name": "python3"
    },
    "language_info": {
      "name": "python"
    },
    "accelerator": "GPU",
    "widgets": {
      "application/vnd.jupyter.widget-state+json": {
        "50962a8b54ca495d83f43e7a7a04740e": {
          "model_module": "@jupyter-widgets/controls",
          "model_name": "HBoxModel",
          "model_module_version": "1.5.0",
          "state": {
            "_dom_classes": [],
            "_model_module": "@jupyter-widgets/controls",
            "_model_module_version": "1.5.0",
            "_model_name": "HBoxModel",
            "_view_count": null,
            "_view_module": "@jupyter-widgets/controls",
            "_view_module_version": "1.5.0",
            "_view_name": "HBoxView",
            "box_style": "",
            "children": [
              "IPY_MODEL_e5a3acc5bd114f25bf7ca64c63465753",
              "IPY_MODEL_2667369bc5a04a7e945480ed3ca59cd0",
              "IPY_MODEL_eeb7f1832ffd46789259bf1866321d95"
            ],
            "layout": "IPY_MODEL_7656b60c0acd4b5aa1160341f4d3771d"
          }
        },
        "e5a3acc5bd114f25bf7ca64c63465753": {
          "model_module": "@jupyter-widgets/controls",
          "model_name": "HTMLModel",
          "model_module_version": "1.5.0",
          "state": {
            "_dom_classes": [],
            "_model_module": "@jupyter-widgets/controls",
            "_model_module_version": "1.5.0",
            "_model_name": "HTMLModel",
            "_view_count": null,
            "_view_module": "@jupyter-widgets/controls",
            "_view_module_version": "1.5.0",
            "_view_name": "HTMLView",
            "description": "",
            "description_tooltip": null,
            "layout": "IPY_MODEL_44549b87ef3443fb9da4606c1255f207",
            "placeholder": "​",
            "style": "IPY_MODEL_2341c54e12c2436f9c17fc4364126737",
            "value": "100%"
          }
        },
        "2667369bc5a04a7e945480ed3ca59cd0": {
          "model_module": "@jupyter-widgets/controls",
          "model_name": "FloatProgressModel",
          "model_module_version": "1.5.0",
          "state": {
            "_dom_classes": [],
            "_model_module": "@jupyter-widgets/controls",
            "_model_module_version": "1.5.0",
            "_model_name": "FloatProgressModel",
            "_view_count": null,
            "_view_module": "@jupyter-widgets/controls",
            "_view_module_version": "1.5.0",
            "_view_name": "ProgressView",
            "bar_style": "success",
            "description": "",
            "description_tooltip": null,
            "layout": "IPY_MODEL_983cf5f62c1144eca6bc26a9b7c79cb7",
            "max": 170498071,
            "min": 0,
            "orientation": "horizontal",
            "style": "IPY_MODEL_f0c51f31ed1147ecb55de0b17c89f1dd",
            "value": 170498071
          }
        },
        "eeb7f1832ffd46789259bf1866321d95": {
          "model_module": "@jupyter-widgets/controls",
          "model_name": "HTMLModel",
          "model_module_version": "1.5.0",
          "state": {
            "_dom_classes": [],
            "_model_module": "@jupyter-widgets/controls",
            "_model_module_version": "1.5.0",
            "_model_name": "HTMLModel",
            "_view_count": null,
            "_view_module": "@jupyter-widgets/controls",
            "_view_module_version": "1.5.0",
            "_view_name": "HTMLView",
            "description": "",
            "description_tooltip": null,
            "layout": "IPY_MODEL_d898951063304256977589104be5a383",
            "placeholder": "​",
            "style": "IPY_MODEL_9956ee3e7e9c40559a3e6732b59138ee",
            "value": " 170498071/170498071 [00:05&lt;00:00, 31125901.16it/s]"
          }
        },
        "7656b60c0acd4b5aa1160341f4d3771d": {
          "model_module": "@jupyter-widgets/base",
          "model_name": "LayoutModel",
          "model_module_version": "1.2.0",
          "state": {
            "_model_module": "@jupyter-widgets/base",
            "_model_module_version": "1.2.0",
            "_model_name": "LayoutModel",
            "_view_count": null,
            "_view_module": "@jupyter-widgets/base",
            "_view_module_version": "1.2.0",
            "_view_name": "LayoutView",
            "align_content": null,
            "align_items": null,
            "align_self": null,
            "border": null,
            "bottom": null,
            "display": null,
            "flex": null,
            "flex_flow": null,
            "grid_area": null,
            "grid_auto_columns": null,
            "grid_auto_flow": null,
            "grid_auto_rows": null,
            "grid_column": null,
            "grid_gap": null,
            "grid_row": null,
            "grid_template_areas": null,
            "grid_template_columns": null,
            "grid_template_rows": null,
            "height": null,
            "justify_content": null,
            "justify_items": null,
            "left": null,
            "margin": null,
            "max_height": null,
            "max_width": null,
            "min_height": null,
            "min_width": null,
            "object_fit": null,
            "object_position": null,
            "order": null,
            "overflow": null,
            "overflow_x": null,
            "overflow_y": null,
            "padding": null,
            "right": null,
            "top": null,
            "visibility": null,
            "width": null
          }
        },
        "44549b87ef3443fb9da4606c1255f207": {
          "model_module": "@jupyter-widgets/base",
          "model_name": "LayoutModel",
          "model_module_version": "1.2.0",
          "state": {
            "_model_module": "@jupyter-widgets/base",
            "_model_module_version": "1.2.0",
            "_model_name": "LayoutModel",
            "_view_count": null,
            "_view_module": "@jupyter-widgets/base",
            "_view_module_version": "1.2.0",
            "_view_name": "LayoutView",
            "align_content": null,
            "align_items": null,
            "align_self": null,
            "border": null,
            "bottom": null,
            "display": null,
            "flex": null,
            "flex_flow": null,
            "grid_area": null,
            "grid_auto_columns": null,
            "grid_auto_flow": null,
            "grid_auto_rows": null,
            "grid_column": null,
            "grid_gap": null,
            "grid_row": null,
            "grid_template_areas": null,
            "grid_template_columns": null,
            "grid_template_rows": null,
            "height": null,
            "justify_content": null,
            "justify_items": null,
            "left": null,
            "margin": null,
            "max_height": null,
            "max_width": null,
            "min_height": null,
            "min_width": null,
            "object_fit": null,
            "object_position": null,
            "order": null,
            "overflow": null,
            "overflow_x": null,
            "overflow_y": null,
            "padding": null,
            "right": null,
            "top": null,
            "visibility": null,
            "width": null
          }
        },
        "2341c54e12c2436f9c17fc4364126737": {
          "model_module": "@jupyter-widgets/controls",
          "model_name": "DescriptionStyleModel",
          "model_module_version": "1.5.0",
          "state": {
            "_model_module": "@jupyter-widgets/controls",
            "_model_module_version": "1.5.0",
            "_model_name": "DescriptionStyleModel",
            "_view_count": null,
            "_view_module": "@jupyter-widgets/base",
            "_view_module_version": "1.2.0",
            "_view_name": "StyleView",
            "description_width": ""
          }
        },
        "983cf5f62c1144eca6bc26a9b7c79cb7": {
          "model_module": "@jupyter-widgets/base",
          "model_name": "LayoutModel",
          "model_module_version": "1.2.0",
          "state": {
            "_model_module": "@jupyter-widgets/base",
            "_model_module_version": "1.2.0",
            "_model_name": "LayoutModel",
            "_view_count": null,
            "_view_module": "@jupyter-widgets/base",
            "_view_module_version": "1.2.0",
            "_view_name": "LayoutView",
            "align_content": null,
            "align_items": null,
            "align_self": null,
            "border": null,
            "bottom": null,
            "display": null,
            "flex": null,
            "flex_flow": null,
            "grid_area": null,
            "grid_auto_columns": null,
            "grid_auto_flow": null,
            "grid_auto_rows": null,
            "grid_column": null,
            "grid_gap": null,
            "grid_row": null,
            "grid_template_areas": null,
            "grid_template_columns": null,
            "grid_template_rows": null,
            "height": null,
            "justify_content": null,
            "justify_items": null,
            "left": null,
            "margin": null,
            "max_height": null,
            "max_width": null,
            "min_height": null,
            "min_width": null,
            "object_fit": null,
            "object_position": null,
            "order": null,
            "overflow": null,
            "overflow_x": null,
            "overflow_y": null,
            "padding": null,
            "right": null,
            "top": null,
            "visibility": null,
            "width": null
          }
        },
        "f0c51f31ed1147ecb55de0b17c89f1dd": {
          "model_module": "@jupyter-widgets/controls",
          "model_name": "ProgressStyleModel",
          "model_module_version": "1.5.0",
          "state": {
            "_model_module": "@jupyter-widgets/controls",
            "_model_module_version": "1.5.0",
            "_model_name": "ProgressStyleModel",
            "_view_count": null,
            "_view_module": "@jupyter-widgets/base",
            "_view_module_version": "1.2.0",
            "_view_name": "StyleView",
            "bar_color": null,
            "description_width": ""
          }
        },
        "d898951063304256977589104be5a383": {
          "model_module": "@jupyter-widgets/base",
          "model_name": "LayoutModel",
          "model_module_version": "1.2.0",
          "state": {
            "_model_module": "@jupyter-widgets/base",
            "_model_module_version": "1.2.0",
            "_model_name": "LayoutModel",
            "_view_count": null,
            "_view_module": "@jupyter-widgets/base",
            "_view_module_version": "1.2.0",
            "_view_name": "LayoutView",
            "align_content": null,
            "align_items": null,
            "align_self": null,
            "border": null,
            "bottom": null,
            "display": null,
            "flex": null,
            "flex_flow": null,
            "grid_area": null,
            "grid_auto_columns": null,
            "grid_auto_flow": null,
            "grid_auto_rows": null,
            "grid_column": null,
            "grid_gap": null,
            "grid_row": null,
            "grid_template_areas": null,
            "grid_template_columns": null,
            "grid_template_rows": null,
            "height": null,
            "justify_content": null,
            "justify_items": null,
            "left": null,
            "margin": null,
            "max_height": null,
            "max_width": null,
            "min_height": null,
            "min_width": null,
            "object_fit": null,
            "object_position": null,
            "order": null,
            "overflow": null,
            "overflow_x": null,
            "overflow_y": null,
            "padding": null,
            "right": null,
            "top": null,
            "visibility": null,
            "width": null
          }
        },
        "9956ee3e7e9c40559a3e6732b59138ee": {
          "model_module": "@jupyter-widgets/controls",
          "model_name": "DescriptionStyleModel",
          "model_module_version": "1.5.0",
          "state": {
            "_model_module": "@jupyter-widgets/controls",
            "_model_module_version": "1.5.0",
            "_model_name": "DescriptionStyleModel",
            "_view_count": null,
            "_view_module": "@jupyter-widgets/base",
            "_view_module_version": "1.2.0",
            "_view_name": "StyleView",
            "description_width": ""
          }
        }
      }
    }
  },
  "nbformat": 4,
  "nbformat_minor": 0
}